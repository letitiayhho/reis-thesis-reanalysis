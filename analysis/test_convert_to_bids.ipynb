{
 "cells": [
  {
   "cell_type": "code",
   "execution_count": 2,
   "id": "3afc7699",
   "metadata": {},
   "outputs": [],
   "source": [
    "from mne_bids import BIDSPath, write_raw_bids, get_anonymization_daysback\n",
    "import random\n",
    "import pandas as pd\n",
    "import numpy as np\n",
    "import itertools\n",
    "import mne\n",
    "import os\n",
    "import sys\n",
    "import re"
   ]
  },
  {
   "cell_type": "code",
   "execution_count": 27,
   "id": "a78dba22",
   "metadata": {},
   "outputs": [
    {
     "name": "stdout",
     "output_type": "stream",
     "text": [
      "../data/raw/Subj10.vhdr\n"
     ]
    }
   ],
   "source": [
    "import glob\n",
    "for file in glob.glob('../data/raw/*vhdr'):\n",
    "    print(file)"
   ]
  },
  {
   "cell_type": "code",
   "execution_count": 31,
   "id": "671de85d",
   "metadata": {},
   "outputs": [
    {
     "data": {
      "text/plain": [
       "'10'"
      ]
     },
     "execution_count": 31,
     "metadata": {},
     "output_type": "execute_result"
    }
   ],
   "source": [
    "regex = re.compile(r'\\d+')\n",
    "sub = regex.findall(file)[0]\n",
    "sub\n"
   ]
  },
  {
   "cell_type": "code",
   "execution_count": 24,
   "id": "ea298a5e",
   "metadata": {},
   "outputs": [],
   "source": [
    "RAW_DIR = '../data/raw/'\n",
    "BIDS_DIR = '../data/bids/'\n",
    "sub = '10'\n",
    "run = '1'\n",
    "task = 'expectationsABR'\n",
    "fname = 'Subj10.vhdr'\n",
    "\n",
    "# load data with MNE function for your file format\n",
    "full_fpath = os.path.join(RAW_DIR, fname)\n",
    "print(full_fpath)\n",
    "raw = mne.io.read_raw_brainvision(full_fpath)\n",
    "raw.load_data()"
   ]
  },
  {
   "cell_type": "code",
   "execution_count": 21,
   "id": "a209ef98",
   "metadata": {},
   "outputs": [
    {
     "name": "stdout",
     "output_type": "stream",
     "text": [
      "Add line_freq to raw.info\n"
     ]
    }
   ],
   "source": [
    "# add some info BIDS will want\n",
    "print(\"Add line_freq to raw.info\")\n",
    "raw.info['line_freq'] = 60 # the power line frequency in the building we collected in"
   ]
  },
  {
   "cell_type": "code",
   "execution_count": 22,
   "id": "f686e8cf",
   "metadata": {},
   "outputs": [
    {
     "name": "stdout",
     "output_type": "stream",
     "text": [
      "Set annotations\n",
      "Used Annotations descriptions: ['New Segment/', 'Stimulus/S  2', 'Stimulus/S  3', 'Stimulus/S  4', 'Stimulus/S  5', 'Stimulus/S  6', 'Stimulus/S  7', 'Stimulus/S  8', 'Stimulus/S  9', 'Stimulus/S 10', 'Stimulus/S 11', 'Stimulus/S 12', 'Stimulus/S 13', 'Stimulus/S 14', 'Stimulus/S 15']\n"
     ]
    }
   ],
   "source": [
    "# Extract events from raw file\n",
    "print(\"Set annotations\")\n",
    "events, event_ids = mne.events_from_annotations(raw)\n",
    "\n",
    "# Drop meaningless event name\n",
    "events = np.array(events)\n",
    "events = events[events[:,2] != event_ids['New Segment/'], :]"
   ]
  },
  {
   "cell_type": "code",
   "execution_count": 25,
   "id": "c0e817fe",
   "metadata": {},
   "outputs": [
    {
     "name": "stdout",
     "output_type": "stream",
     "text": [
      "Write data into BIDS directory\n",
      "Writing '../data/bids/README'...\n",
      "Writing '../data/bids/participants.tsv'...\n",
      "Writing '../data/bids/participants.json'...\n",
      "Used Annotations descriptions: ['New Segment/', 'Stimulus/S  2', 'Stimulus/S  3', 'Stimulus/S  4', 'Stimulus/S  5', 'Stimulus/S  6', 'Stimulus/S  7', 'Stimulus/S  8', 'Stimulus/S  9', 'Stimulus/S 10', 'Stimulus/S 11', 'Stimulus/S 12', 'Stimulus/S 13', 'Stimulus/S 14', 'Stimulus/S 15']\n",
      "Writing '../data/bids/sub-10/eeg/sub-10_task-expectationsABR_run-1_events.tsv'...\n",
      "Writing '../data/bids/dataset_description.json'...\n",
      "Writing '../data/bids/sub-10/eeg/sub-10_task-expectationsABR_run-1_eeg.json'...\n",
      "Writing '../data/bids/sub-10/eeg/sub-10_task-expectationsABR_run-1_channels.tsv'...\n",
      "Copying data files to sub-10_task-expectationsABR_run-1_eeg.vhdr\n"
     ]
    },
    {
     "name": "stderr",
     "output_type": "stream",
     "text": [
      "/var/folders/bk/d0152l256wj91ds4hp514cj40000gn/T/ipykernel_2569/2079932072.py:14: RuntimeWarning: Converting data files to BrainVision format\n",
      "  write_raw_bids(\n",
      "/Users/letitiaho/miniconda3/envs/pitch-tracking/lib/python3.10/site-packages/mne/utils/check.py:92: DeprecationWarning: distutils Version classes are deprecated. Use packaging.version instead.\n",
      "  LooseVersion(library.__version__) < LooseVersion(min_version):\n",
      "/Users/letitiaho/miniconda3/envs/pitch-tracking/lib/python3.10/site-packages/mne/utils/check.py:92: DeprecationWarning: distutils Version classes are deprecated. Use packaging.version instead.\n",
      "  LooseVersion(library.__version__) < LooseVersion(min_version):\n"
     ]
    },
    {
     "name": "stdout",
     "output_type": "stream",
     "text": [
      "Writing '../data/bids/sub-10/sub-10_scans.tsv'...\n",
      "Wrote ../data/bids/sub-10/sub-10_scans.tsv entry with eeg/sub-10_task-expectationsABR_run-1_eeg.vhdr.\n",
      ".vhdr file written? True\n",
      "Done :-)\n"
     ]
    }
   ],
   "source": [
    "# Get range of dates the BIDS specification will accept\n",
    "daysback_min, daysback_max = get_anonymization_daysback(raw)\n",
    "\n",
    "# Write data into BIDS directory, while anonymizing\n",
    "print(\"Write data into BIDS directory\")\n",
    "bids_path = BIDSPath(\n",
    "        run = run,\n",
    "        subject = sub,\n",
    "        task = task,\n",
    "        datatype = 'eeg',\n",
    "        root = BIDS_DIR\n",
    ")\n",
    "\n",
    "write_raw_bids(\n",
    "    raw,\n",
    "    bids_path = bids_path,\n",
    "    allow_preload = True, # whether to load full dataset into memory when copying\n",
    "    format = 'BrainVision', # format to save to\n",
    "    anonymize = dict(daysback = daysback_min), # shift dates by daysback\n",
    "    overwrite = True,\n",
    ")\n",
    "\n",
    "# Check if conversion was successful and .vhdr file was written\n",
    "vhdr_path = str(bids_path)\n",
    "print(f\".vhdr file written? {os.path.exists(vhdr_path)}\")\n",
    "print(\"Done :-)\")"
   ]
  },
  {
   "cell_type": "code",
   "execution_count": null,
   "id": "adf09f05",
   "metadata": {},
   "outputs": [],
   "source": []
  }
 ],
 "metadata": {
  "kernelspec": {
   "display_name": "Python 3 (ipykernel)",
   "language": "python",
   "name": "python3"
  },
  "language_info": {
   "codemirror_mode": {
    "name": "ipython",
    "version": 3
   },
   "file_extension": ".py",
   "mimetype": "text/x-python",
   "name": "python",
   "nbconvert_exporter": "python",
   "pygments_lexer": "ipython3",
   "version": "3.10.2"
  }
 },
 "nbformat": 4,
 "nbformat_minor": 5
}
